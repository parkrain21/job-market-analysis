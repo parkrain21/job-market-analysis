{
 "cells": [
  {
   "cell_type": "code",
   "execution_count": 1,
   "metadata": {},
   "outputs": [],
   "source": [
    "import pandas as pd\n",
    "import numpy as np\n",
    "import matplotlib.pyplot as plt\n",
    "import seaborn as sns"
   ]
  },
  {
   "cell_type": "markdown",
   "metadata": {},
   "source": [
    "#### Loading the DataFrame from CSV"
   ]
  },
  {
   "cell_type": "code",
   "execution_count": 2,
   "metadata": {},
   "outputs": [],
   "source": [
    "df = pd.read_csv('1651489031.csv', index_col=0)"
   ]
  },
  {
   "cell_type": "code",
   "execution_count": 3,
   "metadata": {},
   "outputs": [
    {
     "name": "stdout",
     "output_type": "stream",
     "text": [
      "<class 'pandas.core.frame.DataFrame'>\n",
      "Int64Index: 400 entries, 0 to 399\n",
      "Data columns (total 9 columns):\n",
      " #   Column           Non-Null Count  Dtype \n",
      "---  ------           --------------  ----- \n",
      " 0   job_title        400 non-null    object\n",
      " 1   company          400 non-null    object\n",
      " 2   location         400 non-null    object\n",
      " 3   compensation     20 non-null     object\n",
      " 4   desc             363 non-null    object\n",
      " 5   Seniority level  334 non-null    object\n",
      " 6   Employment type  363 non-null    object\n",
      " 7   Job function     334 non-null    object\n",
      " 8   Industries       325 non-null    object\n",
      "dtypes: object(9)\n",
      "memory usage: 31.2+ KB\n"
     ]
    }
   ],
   "source": [
    "df.info()"
   ]
  },
  {
   "cell_type": "markdown",
   "metadata": {},
   "source": [
    "#### Dropping the unnnecessary columns\n",
    "- Those withoud descriptions are basically irrelevant data.\n",
    "- There may be some Functions and/or Industries that are blank, remove those as well.\n",
    "- These are all entry level positions. Seniority Level can be dropped, or just fill the NaN cells with 'Entry Level'"
   ]
  },
  {
   "cell_type": "code",
   "execution_count": 4,
   "metadata": {},
   "outputs": [],
   "source": [
    "df.dropna(subset=['desc', 'Job function', 'Industries'], inplace=True)\n",
    "# df['Seniority level'].fillna('Entry Level', inplace=True)"
   ]
  },
  {
   "cell_type": "code",
   "execution_count": 5,
   "metadata": {},
   "outputs": [
    {
     "name": "stdout",
     "output_type": "stream",
     "text": [
      "<class 'pandas.core.frame.DataFrame'>\n",
      "Int64Index: 325 entries, 0 to 399\n",
      "Data columns (total 9 columns):\n",
      " #   Column           Non-Null Count  Dtype \n",
      "---  ------           --------------  ----- \n",
      " 0   job_title        325 non-null    object\n",
      " 1   company          325 non-null    object\n",
      " 2   location         325 non-null    object\n",
      " 3   compensation     19 non-null     object\n",
      " 4   desc             325 non-null    object\n",
      " 5   Seniority level  325 non-null    object\n",
      " 6   Employment type  325 non-null    object\n",
      " 7   Job function     325 non-null    object\n",
      " 8   Industries       325 non-null    object\n",
      "dtypes: object(9)\n",
      "memory usage: 25.4+ KB\n"
     ]
    }
   ],
   "source": [
    "df.info()"
   ]
  },
  {
   "cell_type": "markdown",
   "metadata": {},
   "source": [
    "#### Here are some available Job Functions on LinkedIn for Easier Categorization.\n",
    "- New column for the Functions are added, and redundant columns were removed as well\n",
    "- Separate salary ranges in 'upper' and 'lower' columns, fill all NaN with zeroes.\n",
    "- Rearrange the table"
   ]
  },
  {
   "cell_type": "code",
   "execution_count": 6,
   "metadata": {},
   "outputs": [],
   "source": [
    "functions = [\n",
    "'Analyst',\n",
    "'Accounting/Auditing', \n",
    "'Administrative', \n",
    "'Arts and Design', \n",
    "'Business',\n",
    "'Social Services',\n",
    "'Consulting',\n",
    "'Education',\n",
    "'Engineering',\n",
    "'Entrepreneurship',\n",
    "'Finance',\n",
    "'Healthcare Services',\n",
    "'Human Resources',\n",
    "'Information Technology',\n",
    "'Legal',\n",
    "'Marketing',\n",
    "'Media and Communication',\n",
    "'Military',\n",
    "'Operations',\n",
    "'Product Management',\n",
    "'Project Management',\n",
    "'Purchasing',\n",
    "'Quality Assurance',\n",
    "'Real Estate',\n",
    "'Research',\n",
    "'Sales',\n",
    "'Support'\n",
    "]"
   ]
  },
  {
   "cell_type": "code",
   "execution_count": 7,
   "metadata": {},
   "outputs": [],
   "source": [
    "# Input would be from each Job Functions column\n",
    "\n",
    "def match_func(s):  \n",
    "    # Split the job func using the comman and the 'and' delimiter\n",
    "    if ',' in s:\n",
    "        func_split = s.split(', ')\n",
    "        func_split = [x.replace('and ', '') for x in func_split]\n",
    "    else:\n",
    "        func_split = s.split(' and ')\n",
    "\n",
    "    \n",
    "    # Loop through the func_split array, and return the first Function that matches the masterlist\n",
    "    for key in func_split:\n",
    "        for func in functions:\n",
    "            if key.strip().lower() in func.lower():\n",
    "                return func\n",
    "    return key      # uncategorizeable job functions\n",
    "        \n",
    "\n",
    "df['Industry'] = df['Job function'].apply(lambda x: match_func(x))"
   ]
  },
  {
   "cell_type": "code",
   "execution_count": 8,
   "metadata": {},
   "outputs": [],
   "source": [
    "# Remove non-legible records\n",
    "import string\n",
    "allowed_chars = string.printable\n",
    "\n",
    "for row in df.index.values:\n",
    "    if df.loc[row, 'job_title'][-2] not in allowed_chars:\n",
    "        df.drop(row, inplace=True)\n",
    "\n",
    "\n",
    "# Clean the location column and get the country\n",
    "\n",
    "df['Country'] = df.location.apply(lambda x: x.split(', ')[-1])\n",
    "df['Country'] = df['Country'].apply(lambda x: 'United States' if len(x) <= 2 or 'area' in x.lower() or 'metro' in x.lower() else x)"
   ]
  },
  {
   "cell_type": "code",
   "execution_count": 10,
   "metadata": {},
   "outputs": [],
   "source": [
    "df['compensation'].fillna(0, inplace=True)\n",
    "\n",
    "def clean_comp(c):\n",
    "    if c == 0 or c == '':\n",
    "        return 0, 0\n",
    "    else:\n",
    "        c = c.replace('$', '').replace(',','').replace('.00','')\n",
    "        lower = c.split(' - ')[0].replace('/yr', '')\n",
    "        upper = c.split(' - ')[1].replace('/yr', '')\n",
    "\n",
    "        # convert all hourly figures to yearly\n",
    "        if 'hr' in lower.lower() or 'hr' in upper.lower():\n",
    "            lower = int(lower.replace('/hr', '')) * 2000\n",
    "            upper = int(upper.replace('/hr', '')) * 2000\n",
    "\n",
    "        return lower, upper\n",
    "\n",
    "df.drop(df[df['compensation'].str.contains('CN') == True].index, inplace=True)\n",
    "df['lower'] = df['compensation'].apply(lambda x: clean_comp(x)[0]).astype(float)\n",
    "df['upper'] = df['compensation'].apply(lambda x: clean_comp(x)[1]).astype(float)\n",
    "\n",
    "df = df.iloc[:, [5, 6, 9, 10, 11, 12]]"
   ]
  },
  {
   "cell_type": "code",
   "execution_count": 14,
   "metadata": {},
   "outputs": [
    {
     "data": {
      "text/plain": [
       "0.0         298\n",
       "119000.0      1\n",
       "75000.0       1\n",
       "61000.0       1\n",
       "52000.0       1\n",
       "54000.0       1\n",
       "70000.0       1\n",
       "92000.0       1\n",
       "164000.0      1\n",
       "69000.0       1\n",
       "172000.0      1\n",
       "101000.0      1\n",
       "121000.0      1\n",
       "Name: upper, dtype: int64"
      ]
     },
     "execution_count": 14,
     "metadata": {},
     "output_type": "execute_result"
    }
   ],
   "source": [
    "df.iloc[:, 5].value_counts()"
   ]
  },
  {
   "cell_type": "markdown",
   "metadata": {},
   "source": [
    "#### Some questions for the available data:\n",
    "1. What function/Industry does recent job postings come from?\n",
    "2. Which country is the most active in posting [xxxxx] related job in the past week?\n",
    "3. Using those limited sample data with salary range, what would be the average/median salary for [xxxxx]?\n",
    "    - What country is open to disclosing salary range in their job postings?\n",
    "    - What industies?"
   ]
  },
  {
   "cell_type": "code",
   "execution_count": null,
   "metadata": {},
   "outputs": [],
   "source": [
    "jobs_with_salary = df[df.lower != 0]\n",
    "jobs_with_salary.head()"
   ]
  },
  {
   "cell_type": "code",
   "execution_count": null,
   "metadata": {},
   "outputs": [],
   "source": []
  }
 ],
 "metadata": {
  "interpreter": {
   "hash": "cefd5609d3993cc4abb5447d8f3046d29449227496290d1e9f38c63747b55967"
  },
  "kernelspec": {
   "display_name": "Python 3.10.0 64-bit",
   "language": "python",
   "name": "python3"
  },
  "language_info": {
   "codemirror_mode": {
    "name": "ipython",
    "version": 3
   },
   "file_extension": ".py",
   "mimetype": "text/x-python",
   "name": "python",
   "nbconvert_exporter": "python",
   "pygments_lexer": "ipython3",
   "version": "3.10.0"
  },
  "orig_nbformat": 4
 },
 "nbformat": 4,
 "nbformat_minor": 2
}
