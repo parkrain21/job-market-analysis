{
 "cells": [
  {
   "cell_type": "code",
   "execution_count": 1,
   "metadata": {},
   "outputs": [],
   "source": [
    "import pandas as pd\n",
    "import numpy as np\n",
    "import matplotlib.pyplot as plt\n",
    "import seaborn as sns"
   ]
  },
  {
   "cell_type": "markdown",
   "metadata": {},
   "source": [
    "#### Loading the DataFrame from CSV"
   ]
  },
  {
   "cell_type": "code",
   "execution_count": 2,
   "metadata": {},
   "outputs": [],
   "source": [
    "df = pd.read_csv('test1.csv', index_col=0)"
   ]
  },
  {
   "cell_type": "code",
   "execution_count": 3,
   "metadata": {},
   "outputs": [
    {
     "name": "stdout",
     "output_type": "stream",
     "text": [
      "<class 'pandas.core.frame.DataFrame'>\n",
      "Int64Index: 399 entries, 0 to 398\n",
      "Data columns (total 9 columns):\n",
      " #   Column           Non-Null Count  Dtype \n",
      "---  ------           --------------  ----- \n",
      " 0   job_title        399 non-null    object\n",
      " 1   company          399 non-null    object\n",
      " 2   location         399 non-null    object\n",
      " 3   compensation     20 non-null     object\n",
      " 4   desc             225 non-null    object\n",
      " 5   Seniority level  215 non-null    object\n",
      " 6   Employment type  225 non-null    object\n",
      " 7   Job function     215 non-null    object\n",
      " 8   Industries       214 non-null    object\n",
      "dtypes: object(9)\n",
      "memory usage: 31.2+ KB\n"
     ]
    }
   ],
   "source": [
    "df.info()"
   ]
  },
  {
   "cell_type": "markdown",
   "metadata": {},
   "source": [
    "#### Dropping the unnnecessary columns\n",
    "- Those withoud descriptions are basically irrelevant data.\n",
    "- There may be some Functions and/or Industries that are blank, remove those as well.\n",
    "- These are all entry level positions. Seniority Level can be dropped, or just fill the NaN cells with 'Entry Level'"
   ]
  },
  {
   "cell_type": "code",
   "execution_count": 4,
   "metadata": {},
   "outputs": [],
   "source": [
    "df.dropna(subset=['desc', 'Job function', 'Industries'], inplace=True)\n",
    "# df['Seniority level'].fillna('Entry Level', inplace=True)"
   ]
  },
  {
   "cell_type": "code",
   "execution_count": 5,
   "metadata": {},
   "outputs": [
    {
     "name": "stdout",
     "output_type": "stream",
     "text": [
      "<class 'pandas.core.frame.DataFrame'>\n",
      "Int64Index: 214 entries, 0 to 398\n",
      "Data columns (total 9 columns):\n",
      " #   Column           Non-Null Count  Dtype \n",
      "---  ------           --------------  ----- \n",
      " 0   job_title        214 non-null    object\n",
      " 1   company          214 non-null    object\n",
      " 2   location         214 non-null    object\n",
      " 3   compensation     19 non-null     object\n",
      " 4   desc             214 non-null    object\n",
      " 5   Seniority level  214 non-null    object\n",
      " 6   Employment type  214 non-null    object\n",
      " 7   Job function     214 non-null    object\n",
      " 8   Industries       214 non-null    object\n",
      "dtypes: object(9)\n",
      "memory usage: 16.7+ KB\n"
     ]
    }
   ],
   "source": [
    "df.info()"
   ]
  },
  {
   "cell_type": "markdown",
   "metadata": {},
   "source": [
    "#### Here are some available Job Functions on LinkedIn for Easier Categorization.\n",
    "- New column for the Functions are added, and redundant columns were removed as well\n",
    "- Separate salary ranges in 'upper' and 'lower' columns, fill all NaN with zeroes.\n",
    "- Rearrange the table"
   ]
  },
  {
   "cell_type": "code",
   "execution_count": 6,
   "metadata": {},
   "outputs": [],
   "source": [
    "functions = [\n",
    "'Analyst',\n",
    "'Accounting/Auditing', \n",
    "'Administrative', \n",
    "'Arts and Design', \n",
    "'Business',\n",
    "'Social Services',\n",
    "'Consulting',\n",
    "'Education',\n",
    "'Engineering',\n",
    "'Entrepreneurship',\n",
    "'Finance',\n",
    "'Healthcare Services',\n",
    "'Human Resources',\n",
    "'Information Technology',\n",
    "'Legal',\n",
    "'Marketing',\n",
    "'Media and Communication',\n",
    "'Military',\n",
    "'Operations',\n",
    "'Product Management',\n",
    "'Project Management',\n",
    "'Purchasing',\n",
    "'Quality Assurance',\n",
    "'Real Estate',\n",
    "'Research',\n",
    "'Sales',\n",
    "'Support'\n",
    "]"
   ]
  },
  {
   "cell_type": "code",
   "execution_count": 7,
   "metadata": {},
   "outputs": [],
   "source": [
    "# Input would be from each Job Functions column\n",
    "\n",
    "def match_func(s):  \n",
    "    # Split the job func using the comman and the 'and' delimiter\n",
    "    if ',' in s:\n",
    "        func_split = s.split(', ')\n",
    "        func_split = [x.replace('and ', '') for x in func_split]\n",
    "    else:\n",
    "        func_split = s.split(' and ')\n",
    "\n",
    "    \n",
    "    # Loop through the func_split array, and return the first Function that matches the masterlist\n",
    "    for key in func_split:\n",
    "        for func in functions:\n",
    "            if key.strip().lower() in func.lower():\n",
    "                return func\n",
    "    return key      # uncategorizeable job functions\n",
    "        \n",
    "\n",
    "df['Industry'] = df['Job function'].apply(lambda x: match_func(x))"
   ]
  },
  {
   "cell_type": "code",
   "execution_count": 8,
   "metadata": {},
   "outputs": [],
   "source": [
    "df['Country'] = df.location.apply(lambda x: x.split(', ')[-1])\n",
    "df['Country'] = df['Country'].apply(lambda x: 'United States' if len(x) <= 2 or 'area' in x.lower() or 'metro' in x.lower() else x)"
   ]
  },
  {
   "cell_type": "code",
   "execution_count": 9,
   "metadata": {},
   "outputs": [],
   "source": [
    "df['compensation'].fillna(0, inplace=True)\n",
    "\n",
    "def clean_comp(c):\n",
    "    if c == 0 or c == '':\n",
    "        return 0, 0\n",
    "    else:\n",
    "        c = c.replace('$', '').replace(',','').replace('.00','')\n",
    "        lower = c.split(' - ')[0].replace('/yr', '')\n",
    "        upper = c.split(' - ')[1].replace('/yr', '')\n",
    "\n",
    "        # convert all hourly figures to yearly\n",
    "        if 'hr' in lower.lower() or 'hr' in upper.lower():\n",
    "            lower = int(lower.replace('/hr', '')) * 2000\n",
    "            upper = int(upper.replace('/hr', '')) * 2000\n",
    "\n",
    "        return lower, upper\n",
    "\n",
    "# print(clean_comp(''))\n",
    "\n",
    "df['lower'] = df['compensation'].apply(lambda x: clean_comp(x)[0])\n",
    "df['upper'] = df['compensation'].apply(lambda x: clean_comp(x)[1])\n",
    "df.drop(inplace=True, columns=['Job function', 'compensation', 'Industries', 'Employment type', 'Seniority level'])"
   ]
  },
  {
   "cell_type": "markdown",
   "metadata": {},
   "source": [
    "#### Some questions for the available data:\n",
    "1. What function/Industry does recent job postings come from?\n",
    "2. Which country is the most active in posting [xxxxx] related job in the past week?\n",
    "3. Using those limited sample data with salary range, what would be the average/median salary for [xxxxx]?\n",
    "    - What country is open to disclosing salary range in their job postings?\n",
    "    - What industies?"
   ]
  },
  {
   "cell_type": "code",
   "execution_count": 10,
   "metadata": {},
   "outputs": [
    {
     "data": {
      "text/html": [
       "<div>\n",
       "<style scoped>\n",
       "    .dataframe tbody tr th:only-of-type {\n",
       "        vertical-align: middle;\n",
       "    }\n",
       "\n",
       "    .dataframe tbody tr th {\n",
       "        vertical-align: top;\n",
       "    }\n",
       "\n",
       "    .dataframe thead th {\n",
       "        text-align: right;\n",
       "    }\n",
       "</style>\n",
       "<table border=\"1\" class=\"dataframe\">\n",
       "  <thead>\n",
       "    <tr style=\"text-align: right;\">\n",
       "      <th></th>\n",
       "      <th>job_title</th>\n",
       "      <th>company</th>\n",
       "      <th>location</th>\n",
       "      <th>desc</th>\n",
       "      <th>Industry</th>\n",
       "      <th>Country</th>\n",
       "      <th>lower</th>\n",
       "      <th>upper</th>\n",
       "    </tr>\n",
       "  </thead>\n",
       "  <tbody>\n",
       "    <tr>\n",
       "      <th>0</th>\n",
       "      <td>Junior Associate, Data &amp; Analytics - CHI</td>\n",
       "      <td>AdTheorent</td>\n",
       "      <td>Chicago, IL</td>\n",
       "      <td>The AdTheorent Data and Analytics (D&amp;A) team i...</td>\n",
       "      <td>Information Technology</td>\n",
       "      <td>United States</td>\n",
       "      <td>0</td>\n",
       "      <td>0</td>\n",
       "    </tr>\n",
       "    <tr>\n",
       "      <th>1</th>\n",
       "      <td>Junior Associate, Data &amp; Analytics - NYC</td>\n",
       "      <td>AdTheorent</td>\n",
       "      <td>New York, NY</td>\n",
       "      <td>The AdTheorent Data and Analytics (D&amp;A) team i...</td>\n",
       "      <td>Information Technology</td>\n",
       "      <td>United States</td>\n",
       "      <td>0</td>\n",
       "      <td>0</td>\n",
       "    </tr>\n",
       "    <tr>\n",
       "      <th>2</th>\n",
       "      <td>Junior Associate, Data &amp; Analytics - LA</td>\n",
       "      <td>AdTheorent</td>\n",
       "      <td>Los Angeles, CA</td>\n",
       "      <td>The AdTheorent Data and Analytics (D&amp;A) team i...</td>\n",
       "      <td>Information Technology</td>\n",
       "      <td>United States</td>\n",
       "      <td>0</td>\n",
       "      <td>0</td>\n",
       "    </tr>\n",
       "    <tr>\n",
       "      <th>3</th>\n",
       "      <td>Junior Tax</td>\n",
       "      <td>Shopee</td>\n",
       "      <td>Jakarta, Jakarta, Indonesia</td>\n",
       "      <td>Requirements: Minimum bachelor's degree in Acc...</td>\n",
       "      <td>Accounting/Auditing</td>\n",
       "      <td>Indonesia</td>\n",
       "      <td>0</td>\n",
       "      <td>0</td>\n",
       "    </tr>\n",
       "    <tr>\n",
       "      <th>4</th>\n",
       "      <td>Junior Data Engineer</td>\n",
       "      <td>EY</td>\n",
       "      <td>Athens, Attiki, Greece</td>\n",
       "      <td>At EY, you’ll have the chance to build a caree...</td>\n",
       "      <td>Information Technology</td>\n",
       "      <td>Greece</td>\n",
       "      <td>0</td>\n",
       "      <td>0</td>\n",
       "    </tr>\n",
       "  </tbody>\n",
       "</table>\n",
       "</div>"
      ],
      "text/plain": [
       "                                  job_title     company  \\\n",
       "0  Junior Associate, Data & Analytics - CHI  AdTheorent   \n",
       "1  Junior Associate, Data & Analytics - NYC  AdTheorent   \n",
       "2   Junior Associate, Data & Analytics - LA  AdTheorent   \n",
       "3                                Junior Tax      Shopee   \n",
       "4                      Junior Data Engineer          EY   \n",
       "\n",
       "                      location  \\\n",
       "0                  Chicago, IL   \n",
       "1                 New York, NY   \n",
       "2              Los Angeles, CA   \n",
       "3  Jakarta, Jakarta, Indonesia   \n",
       "4       Athens, Attiki, Greece   \n",
       "\n",
       "                                                desc                Industry  \\\n",
       "0  The AdTheorent Data and Analytics (D&A) team i...  Information Technology   \n",
       "1  The AdTheorent Data and Analytics (D&A) team i...  Information Technology   \n",
       "2  The AdTheorent Data and Analytics (D&A) team i...  Information Technology   \n",
       "3  Requirements: Minimum bachelor's degree in Acc...     Accounting/Auditing   \n",
       "4  At EY, you’ll have the chance to build a caree...  Information Technology   \n",
       "\n",
       "         Country lower upper  \n",
       "0  United States     0     0  \n",
       "1  United States     0     0  \n",
       "2  United States     0     0  \n",
       "3      Indonesia     0     0  \n",
       "4         Greece     0     0  "
      ]
     },
     "execution_count": 10,
     "metadata": {},
     "output_type": "execute_result"
    }
   ],
   "source": [
    "df.head()"
   ]
  }
 ],
 "metadata": {
  "interpreter": {
   "hash": "cefd5609d3993cc4abb5447d8f3046d29449227496290d1e9f38c63747b55967"
  },
  "kernelspec": {
   "display_name": "Python 3.10.0 64-bit",
   "language": "python",
   "name": "python3"
  },
  "language_info": {
   "codemirror_mode": {
    "name": "ipython",
    "version": 3
   },
   "file_extension": ".py",
   "mimetype": "text/x-python",
   "name": "python",
   "nbconvert_exporter": "python",
   "pygments_lexer": "ipython3",
   "version": "3.10.0"
  },
  "orig_nbformat": 4
 },
 "nbformat": 4,
 "nbformat_minor": 2
}
